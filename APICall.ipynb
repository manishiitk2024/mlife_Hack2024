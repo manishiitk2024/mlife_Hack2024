{
 "cells": [
  {
   "cell_type": "code",
   "execution_count": 1,
   "id": "fc176cb0",
   "metadata": {},
   "outputs": [],
   "source": [
    "import requests"
   ]
  },
  {
   "cell_type": "code",
   "execution_count": 4,
   "id": "6a9140ef",
   "metadata": {},
   "outputs": [
    {
     "name": "stdout",
     "output_type": "stream",
     "text": [
      "Response: Jio, Manishwa. Jio Modi. Jio BBT.\n"
     ]
    }
   ],
   "source": [
    "url = \"https://mlhackbackend.azurewebsites.net/api/http_trigger1?\"\n",
    "funcAuth = \"\"\n",
    "response = requests.post(url, json={'name':'Manish'})\n",
    "\n",
    "# Check if the request was successful\n",
    "if response.status_code == 200:\n",
    "    print(f\"Response: {response.text}\")\n",
    "else:\n",
    "    print(f\"Failed to call the API. Status code: {response.status_code}\")\n",
    "    print(f\"Error message: {response.text}\")"
   ]
  },
  {
   "cell_type": "code",
   "execution_count": null,
   "id": "f03c3af9",
   "metadata": {},
   "outputs": [],
   "source": []
  }
 ],
 "metadata": {
  "kernelspec": {
   "display_name": "Python 3 (ipykernel)",
   "language": "python",
   "name": "python3"
  },
  "language_info": {
   "codemirror_mode": {
    "name": "ipython",
    "version": 3
   },
   "file_extension": ".py",
   "mimetype": "text/x-python",
   "name": "python",
   "nbconvert_exporter": "python",
   "pygments_lexer": "ipython3",
   "version": "3.11.4"
  }
 },
 "nbformat": 4,
 "nbformat_minor": 5
}
